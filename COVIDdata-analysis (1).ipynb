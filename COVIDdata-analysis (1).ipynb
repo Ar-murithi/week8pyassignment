{
 "cells": [
  {
   "cell_type": "code",
   "execution_count": 5,
   "id": "dba22ae0-78f6-479c-934d-5e743b1e8ed2",
   "metadata": {},
   "outputs": [
    {
     "data": {
      "text/plain": [
       "<bound method NDFrame.head of        iso_code continent     location        date  total_cases  new_cases  \\\n",
       "0           AFG      Asia  Afghanistan    1/3/2020          NaN        0.0   \n",
       "1           AFG      Asia  Afghanistan    1/4/2020          NaN        0.0   \n",
       "2           AFG      Asia  Afghanistan    1/5/2020          NaN        0.0   \n",
       "3           AFG      Asia  Afghanistan    1/6/2020          NaN        0.0   \n",
       "4           AFG      Asia  Afghanistan    1/7/2020          NaN        0.0   \n",
       "...         ...       ...          ...         ...          ...        ...   \n",
       "350080      ZWE    Africa     Zimbabwe  10/14/2023     265808.0        0.0   \n",
       "350081      ZWE    Africa     Zimbabwe  10/15/2023     265808.0        0.0   \n",
       "350082      ZWE    Africa     Zimbabwe  10/16/2023     265808.0        0.0   \n",
       "350083      ZWE    Africa     Zimbabwe  10/17/2023     265808.0        0.0   \n",
       "350084      ZWE    Africa     Zimbabwe  10/18/2023     265808.0        0.0   \n",
       "\n",
       "        new_cases_smoothed  total_deaths  new_deaths  new_deaths_smoothed  \\\n",
       "0                      NaN           NaN         0.0                  NaN   \n",
       "1                      NaN           NaN         0.0                  NaN   \n",
       "2                      NaN           NaN         0.0                  NaN   \n",
       "3                      NaN           NaN         0.0                  NaN   \n",
       "4                      NaN           NaN         0.0                  NaN   \n",
       "...                    ...           ...         ...                  ...   \n",
       "350080               5.286        5718.0         0.0                  0.0   \n",
       "350081               5.286        5718.0         0.0                  0.0   \n",
       "350082               5.286        5718.0         0.0                  0.0   \n",
       "350083               0.000        5718.0         0.0                  0.0   \n",
       "350084               0.000        5718.0         0.0                  0.0   \n",
       "\n",
       "        ...  male_smokers  handwashing_facilities  hospital_beds_per_thousand  \\\n",
       "0       ...           NaN                  37.746                         0.5   \n",
       "1       ...           NaN                  37.746                         0.5   \n",
       "2       ...           NaN                  37.746                         0.5   \n",
       "3       ...           NaN                  37.746                         0.5   \n",
       "4       ...           NaN                  37.746                         0.5   \n",
       "...     ...           ...                     ...                         ...   \n",
       "350080  ...          30.7                  36.791                         1.7   \n",
       "350081  ...          30.7                  36.791                         1.7   \n",
       "350082  ...          30.7                  36.791                         1.7   \n",
       "350083  ...          30.7                  36.791                         1.7   \n",
       "350084  ...          30.7                  36.791                         1.7   \n",
       "\n",
       "        life_expectancy  human_development_index  population  \\\n",
       "0                 64.83                    0.511    41128772   \n",
       "1                 64.83                    0.511    41128772   \n",
       "2                 64.83                    0.511    41128772   \n",
       "3                 64.83                    0.511    41128772   \n",
       "4                 64.83                    0.511    41128772   \n",
       "...                 ...                      ...         ...   \n",
       "350080            61.49                    0.571    16320539   \n",
       "350081            61.49                    0.571    16320539   \n",
       "350082            61.49                    0.571    16320539   \n",
       "350083            61.49                    0.571    16320539   \n",
       "350084            61.49                    0.571    16320539   \n",
       "\n",
       "        excess_mortality_cumulative_absolute  excess_mortality_cumulative  \\\n",
       "0                                        NaN                          NaN   \n",
       "1                                        NaN                          NaN   \n",
       "2                                        NaN                          NaN   \n",
       "3                                        NaN                          NaN   \n",
       "4                                        NaN                          NaN   \n",
       "...                                      ...                          ...   \n",
       "350080                                   NaN                          NaN   \n",
       "350081                                   NaN                          NaN   \n",
       "350082                                   NaN                          NaN   \n",
       "350083                                   NaN                          NaN   \n",
       "350084                                   NaN                          NaN   \n",
       "\n",
       "        excess_mortality  excess_mortality_cumulative_per_million  \n",
       "0                    NaN                                      NaN  \n",
       "1                    NaN                                      NaN  \n",
       "2                    NaN                                      NaN  \n",
       "3                    NaN                                      NaN  \n",
       "4                    NaN                                      NaN  \n",
       "...                  ...                                      ...  \n",
       "350080               NaN                                      NaN  \n",
       "350081               NaN                                      NaN  \n",
       "350082               NaN                                      NaN  \n",
       "350083               NaN                                      NaN  \n",
       "350084               NaN                                      NaN  \n",
       "\n",
       "[350085 rows x 67 columns]>"
      ]
     },
     "execution_count": 5,
     "metadata": {},
     "output_type": "execute_result"
    }
   ],
   "source": [
    "#1.Data collection\n",
    "# import the required libraries\n",
    "import pandas as pd\n",
    "import numpy as np\n",
    "# load the data set\n",
    "df = pd.read_csv(\"covid-data.csv\")\n",
    "#data preview\n",
    "df.head\n"
   ]
  },
  {
   "cell_type": "code",
   "execution_count": 13,
   "id": "501bbe4f-4125-400a-8b53-e0ae61d5d75e",
   "metadata": {},
   "outputs": [
    {
     "data": {
      "text/html": [
       "<div>\n",
       "<style scoped>\n",
       "    .dataframe tbody tr th:only-of-type {\n",
       "        vertical-align: middle;\n",
       "    }\n",
       "\n",
       "    .dataframe tbody tr th {\n",
       "        vertical-align: top;\n",
       "    }\n",
       "\n",
       "    .dataframe thead th {\n",
       "        text-align: right;\n",
       "    }\n",
       "</style>\n",
       "<table border=\"1\" class=\"dataframe\">\n",
       "  <thead>\n",
       "    <tr style=\"text-align: right;\">\n",
       "      <th></th>\n",
       "      <th>iso_code</th>\n",
       "      <th>continent</th>\n",
       "      <th>location</th>\n",
       "      <th>date</th>\n",
       "      <th>total_cases</th>\n",
       "      <th>new_cases</th>\n",
       "      <th>new_cases_smoothed</th>\n",
       "      <th>total_deaths</th>\n",
       "      <th>new_deaths</th>\n",
       "      <th>new_deaths_smoothed</th>\n",
       "      <th>...</th>\n",
       "      <th>male_smokers</th>\n",
       "      <th>handwashing_facilities</th>\n",
       "      <th>hospital_beds_per_thousand</th>\n",
       "      <th>life_expectancy</th>\n",
       "      <th>human_development_index</th>\n",
       "      <th>population</th>\n",
       "      <th>excess_mortality_cumulative_absolute</th>\n",
       "      <th>excess_mortality_cumulative</th>\n",
       "      <th>excess_mortality</th>\n",
       "      <th>excess_mortality_cumulative_per_million</th>\n",
       "    </tr>\n",
       "  </thead>\n",
       "  <tbody>\n",
       "    <tr>\n",
       "      <th>0</th>\n",
       "      <td>AFG</td>\n",
       "      <td>Asia</td>\n",
       "      <td>Afghanistan</td>\n",
       "      <td>1/3/2020</td>\n",
       "      <td>NaN</td>\n",
       "      <td>0.0</td>\n",
       "      <td>NaN</td>\n",
       "      <td>NaN</td>\n",
       "      <td>0.0</td>\n",
       "      <td>NaN</td>\n",
       "      <td>...</td>\n",
       "      <td>NaN</td>\n",
       "      <td>37.746</td>\n",
       "      <td>0.5</td>\n",
       "      <td>64.83</td>\n",
       "      <td>0.511</td>\n",
       "      <td>41128772</td>\n",
       "      <td>NaN</td>\n",
       "      <td>NaN</td>\n",
       "      <td>NaN</td>\n",
       "      <td>NaN</td>\n",
       "    </tr>\n",
       "    <tr>\n",
       "      <th>1</th>\n",
       "      <td>AFG</td>\n",
       "      <td>Asia</td>\n",
       "      <td>Afghanistan</td>\n",
       "      <td>1/4/2020</td>\n",
       "      <td>NaN</td>\n",
       "      <td>0.0</td>\n",
       "      <td>NaN</td>\n",
       "      <td>NaN</td>\n",
       "      <td>0.0</td>\n",
       "      <td>NaN</td>\n",
       "      <td>...</td>\n",
       "      <td>NaN</td>\n",
       "      <td>37.746</td>\n",
       "      <td>0.5</td>\n",
       "      <td>64.83</td>\n",
       "      <td>0.511</td>\n",
       "      <td>41128772</td>\n",
       "      <td>NaN</td>\n",
       "      <td>NaN</td>\n",
       "      <td>NaN</td>\n",
       "      <td>NaN</td>\n",
       "    </tr>\n",
       "    <tr>\n",
       "      <th>2</th>\n",
       "      <td>AFG</td>\n",
       "      <td>Asia</td>\n",
       "      <td>Afghanistan</td>\n",
       "      <td>1/5/2020</td>\n",
       "      <td>NaN</td>\n",
       "      <td>0.0</td>\n",
       "      <td>NaN</td>\n",
       "      <td>NaN</td>\n",
       "      <td>0.0</td>\n",
       "      <td>NaN</td>\n",
       "      <td>...</td>\n",
       "      <td>NaN</td>\n",
       "      <td>37.746</td>\n",
       "      <td>0.5</td>\n",
       "      <td>64.83</td>\n",
       "      <td>0.511</td>\n",
       "      <td>41128772</td>\n",
       "      <td>NaN</td>\n",
       "      <td>NaN</td>\n",
       "      <td>NaN</td>\n",
       "      <td>NaN</td>\n",
       "    </tr>\n",
       "    <tr>\n",
       "      <th>3</th>\n",
       "      <td>AFG</td>\n",
       "      <td>Asia</td>\n",
       "      <td>Afghanistan</td>\n",
       "      <td>1/6/2020</td>\n",
       "      <td>NaN</td>\n",
       "      <td>0.0</td>\n",
       "      <td>NaN</td>\n",
       "      <td>NaN</td>\n",
       "      <td>0.0</td>\n",
       "      <td>NaN</td>\n",
       "      <td>...</td>\n",
       "      <td>NaN</td>\n",
       "      <td>37.746</td>\n",
       "      <td>0.5</td>\n",
       "      <td>64.83</td>\n",
       "      <td>0.511</td>\n",
       "      <td>41128772</td>\n",
       "      <td>NaN</td>\n",
       "      <td>NaN</td>\n",
       "      <td>NaN</td>\n",
       "      <td>NaN</td>\n",
       "    </tr>\n",
       "    <tr>\n",
       "      <th>4</th>\n",
       "      <td>AFG</td>\n",
       "      <td>Asia</td>\n",
       "      <td>Afghanistan</td>\n",
       "      <td>1/7/2020</td>\n",
       "      <td>NaN</td>\n",
       "      <td>0.0</td>\n",
       "      <td>NaN</td>\n",
       "      <td>NaN</td>\n",
       "      <td>0.0</td>\n",
       "      <td>NaN</td>\n",
       "      <td>...</td>\n",
       "      <td>NaN</td>\n",
       "      <td>37.746</td>\n",
       "      <td>0.5</td>\n",
       "      <td>64.83</td>\n",
       "      <td>0.511</td>\n",
       "      <td>41128772</td>\n",
       "      <td>NaN</td>\n",
       "      <td>NaN</td>\n",
       "      <td>NaN</td>\n",
       "      <td>NaN</td>\n",
       "    </tr>\n",
       "  </tbody>\n",
       "</table>\n",
       "<p>5 rows × 67 columns</p>\n",
       "</div>"
      ],
      "text/plain": [
       "  iso_code continent     location      date  total_cases  new_cases  \\\n",
       "0      AFG      Asia  Afghanistan  1/3/2020          NaN        0.0   \n",
       "1      AFG      Asia  Afghanistan  1/4/2020          NaN        0.0   \n",
       "2      AFG      Asia  Afghanistan  1/5/2020          NaN        0.0   \n",
       "3      AFG      Asia  Afghanistan  1/6/2020          NaN        0.0   \n",
       "4      AFG      Asia  Afghanistan  1/7/2020          NaN        0.0   \n",
       "\n",
       "   new_cases_smoothed  total_deaths  new_deaths  new_deaths_smoothed  ...  \\\n",
       "0                 NaN           NaN         0.0                  NaN  ...   \n",
       "1                 NaN           NaN         0.0                  NaN  ...   \n",
       "2                 NaN           NaN         0.0                  NaN  ...   \n",
       "3                 NaN           NaN         0.0                  NaN  ...   \n",
       "4                 NaN           NaN         0.0                  NaN  ...   \n",
       "\n",
       "   male_smokers  handwashing_facilities  hospital_beds_per_thousand  \\\n",
       "0           NaN                  37.746                         0.5   \n",
       "1           NaN                  37.746                         0.5   \n",
       "2           NaN                  37.746                         0.5   \n",
       "3           NaN                  37.746                         0.5   \n",
       "4           NaN                  37.746                         0.5   \n",
       "\n",
       "   life_expectancy  human_development_index  population  \\\n",
       "0            64.83                    0.511    41128772   \n",
       "1            64.83                    0.511    41128772   \n",
       "2            64.83                    0.511    41128772   \n",
       "3            64.83                    0.511    41128772   \n",
       "4            64.83                    0.511    41128772   \n",
       "\n",
       "   excess_mortality_cumulative_absolute  excess_mortality_cumulative  \\\n",
       "0                                   NaN                          NaN   \n",
       "1                                   NaN                          NaN   \n",
       "2                                   NaN                          NaN   \n",
       "3                                   NaN                          NaN   \n",
       "4                                   NaN                          NaN   \n",
       "\n",
       "   excess_mortality  excess_mortality_cumulative_per_million  \n",
       "0               NaN                                      NaN  \n",
       "1               NaN                                      NaN  \n",
       "2               NaN                                      NaN  \n",
       "3               NaN                                      NaN  \n",
       "4               NaN                                      NaN  \n",
       "\n",
       "[5 rows x 67 columns]"
      ]
     },
     "execution_count": 13,
     "metadata": {},
     "output_type": "execute_result"
    }
   ],
   "source": [
    "#.2 Data exploration\n",
    "# check columns\n",
    "df.columns\n",
    "# Rows preview\n",
    "df.head()\n",
    "\n",
    "\n"
   ]
  },
  {
   "cell_type": "code",
   "execution_count": 14,
   "id": "f6a7e91a-d2da-4fd3-a4f4-218187ec087f",
   "metadata": {},
   "outputs": [
    {
     "data": {
      "text/plain": [
       "weekly_icu_admissions                      339880\n",
       "weekly_icu_admissions_per_million          339880\n",
       "excess_mortality_cumulative_per_million    337901\n",
       "excess_mortality                           337901\n",
       "excess_mortality_cumulative                337901\n",
       "                                            ...  \n",
       "new_deaths_per_million                       9574\n",
       "population                                      0\n",
       "date                                            0\n",
       "location                                        0\n",
       "iso_code                                        0\n",
       "Length: 67, dtype: int64"
      ]
     },
     "execution_count": 14,
     "metadata": {},
     "output_type": "execute_result"
    }
   ],
   "source": [
    "# #.missing values\n",
    "df.isnull().sum().sort_values(ascending=False)\n"
   ]
  },
  {
   "cell_type": "code",
   "execution_count": 66,
   "id": "9131da49-e5de-4022-8f62-2ca3818e035d",
   "metadata": {
    "execution": {
     "iopub.execute_input": "2025-05-13T18:39:25.379831Z",
     "iopub.status.busy": "2025-05-13T18:39:25.379524Z",
     "iopub.status.idle": "2025-05-13T18:39:26.072969Z",
     "shell.execute_reply": "2025-05-13T18:39:26.071846Z",
     "shell.execute_reply.started": "2025-05-13T18:39:25.379807Z"
    }
   },
   "outputs": [
    {
     "name": "stdout",
     "output_type": "stream",
     "text": [
      "iso_code                                   0\n",
      "continent                                  0\n",
      "location                                   0\n",
      "date                                       0\n",
      "total_cases                                0\n",
      "                                          ..\n",
      "population                                 0\n",
      "excess_mortality_cumulative_absolute       0\n",
      "excess_mortality_cumulative                0\n",
      "excess_mortality                           0\n",
      "excess_mortality_cumulative_per_million    0\n",
      "Length: 67, dtype: int64\n"
     ]
    }
   ],
   "source": [
    "# data cleaning\n",
    "#Convert date column to datetime: pd.to_datetime()\n",
    "df.loc[:, \"date\"] = pd.to_datetime(df[\"date\"])\n",
    "#Filter countries of interest (e.g., Kenya, USA, India).\n",
    "countries = [\"Kenya\",\"Spain\",\"India\",\"South Korea\",\"Australia\"]\n",
    "df_selected = df[df[\"location\"].isin(countries)]\n",
    "# Drop rows with missing dates/critical values.\n",
    "critical_columns =[\"total_deaths\",\"total_cases\",\"location\",\"population\"]\n",
    "df.dropna(subset=critical_columns)\n",
    "# Sort by date (important for interpolation)\n",
    "df = df.sort_values(\"date\")\n",
    "\n",
    "# Interpolate missing numeric values\n",
    "df = df.interpolate(method='linear')\n",
    "\n",
    "# Optional: Fill any remaining NaNs with 0\n",
    "df = df.fillna(0)\n",
    "# Final check\n",
    "print(df.isnull().sum())\n",
    "\n",
    "\n"
   ]
  },
  {
   "cell_type": "code",
   "execution_count": 112,
   "id": "670d0341-f6d4-4854-a0d4-701d234790af",
   "metadata": {
    "execution": {
     "iopub.execute_input": "2025-05-13T19:53:47.529275Z",
     "iopub.status.busy": "2025-05-13T19:53:47.528810Z",
     "iopub.status.idle": "2025-05-13T19:53:48.112566Z",
     "shell.execute_reply": "2025-05-13T19:53:48.111577Z",
     "shell.execute_reply.started": "2025-05-13T19:53:47.529239Z"
    }
   },
   "outputs": [
    {
     "data": {
      "text/plain": [
       "<matplotlib.legend.Legend at 0x732258d309d0>"
      ]
     },
     "execution_count": 112,
     "metadata": {},
     "output_type": "execute_result"
    },
    {
     "data": {
      "image/png": "[encoded data removed]",
      "text/plain": [
       "<Figure size 640x480 with 1 Axes>"
      ]
     },
     "metadata": {},
     "output_type": "display_data"
    }
   ],
   "source": [
    "# Data exploration\n",
    "\n",
    "import matplotlib.pyplot as plt\n",
    "import seaborn as sns\n",
    "#Plot total cases over time for selected countries.\n",
    "for country in countries:\n",
    "    subset = df_selected[df_selected['location'] == country]\n",
    "    plt.plot(subset['date'], subset['total_cases'], label=country)\n",
    "plt.title(\"Total COVID-19 Cases Over Time\")\n",
    "plt.xlabel(\"Date\")\n",
    "plt.ylabel(\"Total Cases\")\n",
    "plt.legend()\n",
    "\n",
    "    "
   ]
  },
  {
   "cell_type": "code",
   "execution_count": 113,
   "id": "b6a147b9-76d1-4d65-918e-6c93f8dfd4eb",
   "metadata": {
    "execution": {
     "iopub.execute_input": "2025-05-13T19:53:51.602854Z",
     "iopub.status.busy": "2025-05-13T19:53:51.602132Z",
     "iopub.status.idle": "2025-05-13T19:53:51.705363Z",
     "shell.execute_reply": "2025-05-13T19:53:51.694851Z",
     "shell.execute_reply.started": "2025-05-13T19:53:51.602819Z"
    }
   },
   "outputs": [
    {
     "name": "stdout",
     "output_type": "stream",
     "text": [
      "iso_code                                   0.0\n",
      "continent                                  0.0\n",
      "location                                   0.0\n",
      "date                                       0.0\n",
      "total_cases                                0.0\n",
      "                                          ... \n",
      "excess_mortality_cumulative_absolute       0.0\n",
      "excess_mortality_cumulative                0.0\n",
      "excess_mortality                           0.0\n",
      "excess_mortality_cumulative_per_million    0.0\n",
      "death_rate                                 0.0\n",
      "Length: 68, dtype: float64\n"
     ]
    }
   ],
   "source": [
    "print(df[df[\"location\"] == \"US\"].isnull().sum())\n",
    "\n",
    "\n",
    "   "
   ]
  },
  {
   "cell_type": "code",
   "execution_count": 73,
   "id": "50583d94-2494-45bf-a155-2ab80aaf72de",
   "metadata": {
    "execution": {
     "iopub.execute_input": "2025-05-13T18:59:29.603301Z",
     "iopub.status.busy": "2025-05-13T18:59:29.602986Z",
     "iopub.status.idle": "2025-05-13T18:59:29.976805Z",
     "shell.execute_reply": "2025-05-13T18:59:29.976170Z",
     "shell.execute_reply.started": "2025-05-13T18:59:29.603279Z"
    }
   },
   "outputs": [
    {
     "data": {
      "image/png": "[encoded data removed]",
      "text/plain": [
       "<Figure size 640x480 with 1 Axes>"
      ]
     },
     "metadata": {},
     "output_type": "display_data"
    }
   ],
   "source": [
    "# Total death overtime\n",
    "for country in countries:\n",
    "    subset = df_selected[df_selected[\"location\"] == country]\n",
    "    plt.plot(subset[\"date\"], subset[\"total_deaths\"], label=country)\n",
    "    plt.ylabel(\"Total deaths\")\n",
    "    plt.xlabel(\"Date\")\n",
    "    plt.legend()"
   ]
  },
  {
   "cell_type": "code",
   "execution_count": 75,
   "id": "16dc1305-5d0e-408d-ac2d-bb157326853d",
   "metadata": {
    "execution": {
     "iopub.execute_input": "2025-05-13T19:03:39.778435Z",
     "iopub.status.busy": "2025-05-13T19:03:39.778014Z",
     "iopub.status.idle": "2025-05-13T19:03:42.375426Z",
     "shell.execute_reply": "2025-05-13T19:03:42.374255Z",
     "shell.execute_reply.started": "2025-05-13T19:03:39.778392Z"
    }
   },
   "outputs": [
    {
     "data": {
      "image/png": "[encoded data removed]",
      "text/plain": [
       "<Figure size 640x480 with 1 Axes>"
      ]
     },
     "metadata": {},
     "output_type": "display_data"
    }
   ],
   "source": [
    "# new cases between countries\n",
    "for country in countries:\n",
    "    subset = df_selected[df_selected[\"location\"] == country]\n",
    "    plt.plot(subset[\"date\"], subset[\"new_cases\"], label=country)\n",
    "    plt.ylabel(\"New cases\")\n",
    "    plt.xlabel(\"Date\")\n",
    "    plt.legend()\n"
   ]
  },
  {
   "cell_type": "code",
   "execution_count": 105,
   "id": "b95024e0-5973-49ec-9434-612b33546a18",
   "metadata": {
    "execution": {
     "iopub.execute_input": "2025-05-13T19:31:22.496105Z",
     "iopub.status.busy": "2025-05-13T19:31:22.495794Z",
     "iopub.status.idle": "2025-05-13T19:31:22.972696Z",
     "shell.execute_reply": "2025-05-13T19:31:22.971924Z",
     "shell.execute_reply.started": "2025-05-13T19:31:22.496084Z"
    }
   },
   "outputs": [
    {
     "data": {
      "text/html": [
       "<div>\n",
       "<style scoped>\n",
       "    .dataframe tbody tr th:only-of-type {\n",
       "        vertical-align: middle;\n",
       "    }\n",
       "\n",
       "    .dataframe tbody tr th {\n",
       "        vertical-align: top;\n",
       "    }\n",
       "\n",
       "    .dataframe thead th {\n",
       "        text-align: right;\n",
       "    }\n",
       "</style>\n",
       "<table border=\"1\" class=\"dataframe\">\n",
       "  <thead>\n",
       "    <tr style=\"text-align: right;\">\n",
       "      <th></th>\n",
       "      <th>location</th>\n",
       "      <th>people_fully_vaccinated_per_hundred</th>\n",
       "    </tr>\n",
       "  </thead>\n",
       "  <tbody>\n",
       "    <tr>\n",
       "      <th>293501</th>\n",
       "      <td>South Korea</td>\n",
       "      <td>76.415625</td>\n",
       "    </tr>\n",
       "    <tr>\n",
       "      <th>159171</th>\n",
       "      <td>Kenya</td>\n",
       "      <td>74.680000</td>\n",
       "    </tr>\n",
       "    <tr>\n",
       "      <th>19404</th>\n",
       "      <td>Australia</td>\n",
       "      <td>64.760000</td>\n",
       "    </tr>\n",
       "    <tr>\n",
       "      <th>141157</th>\n",
       "      <td>India</td>\n",
       "      <td>67.170000</td>\n",
       "    </tr>\n",
       "    <tr>\n",
       "      <th>296271</th>\n",
       "      <td>Spain</td>\n",
       "      <td>74.986875</td>\n",
       "    </tr>\n",
       "  </tbody>\n",
       "</table>\n",
       "</div>"
      ],
      "text/plain": [
       "           location  people_fully_vaccinated_per_hundred\n",
       "293501  South Korea                            76.415625\n",
       "159171        Kenya                            74.680000\n",
       "19404     Australia                            64.760000\n",
       "141157        India                            67.170000\n",
       "296271        Spain                            74.986875"
      ]
     },
     "execution_count": 105,
     "metadata": {},
     "output_type": "execute_result"
    },
    {
     "data": {
      "image/png": "[encoded data removed]",
      "text/plain": [
       "<Figure size 1200x600 with 1 Axes>"
      ]
     },
     "metadata": {},
     "output_type": "display_data"
    }
   ],
   "source": [
    "#5.vaccinations Visualization\n",
    "plt.figure(figsize=(12,6))\n",
    "for country in countries:\n",
    "    subset = df_selected[df_selected['location'] == country]\n",
    "    plt.plot(subset['date'], subset['total_vaccinations'], label=country)\n",
    "plt.title(f\"Total COVID Vaccinations Over Time in {country}\")\n",
    "plt.xlabel(\"Date\")\n",
    "plt.ylabel(\"Total Vaccinations\")\n",
    "plt.legend()\n",
    "\n",
    "# Latest % vaccinated population\n",
    "latest_data = df_selected.sort_values('date').groupby('location').tail(1)\n",
    "latest_data[['location', 'people_fully_vaccinated_per_hundred']]\n"
   ]
  },
  {
   "cell_type": "code",
   "execution_count": 111,
   "id": "934ef932-888b-4464-9522-77154639c477",
   "metadata": {
    "execution": {
     "iopub.execute_input": "2025-05-13T19:52:20.583371Z",
     "iopub.status.busy": "2025-05-13T19:52:20.582809Z",
     "iopub.status.idle": "2025-05-13T19:52:20.765644Z",
     "shell.execute_reply": "2025-05-13T19:52:20.764978Z",
     "shell.execute_reply.started": "2025-05-13T19:52:20.583344Z"
    }
   },
   "outputs": [
    {
     "data": {
      "application/vnd.plotly.v1+json": {
       "config": {
        "plotlyServerURL": "https://plot.ly"
       },
       "data": [
        {
         "coloraxis": "coloraxis",
         "geo": "geo",
         "hovertemplate": "<b>%{hovertext}</b><br><br>iso_code=%{location}<br>total_cases=%{z}<extra></extra>",
         "hovertext": [
          "Benin",
          "Belize",
          "Belgium",
          "Belarus",
          "Bolivia",
          "United States Virgin Islands",
          "Afghanistan",
          "Ethiopia",
          "Latvia",
          "Laos",
          "Kyrgyzstan",
          "Jersey",
          "Kiribati",
          "Kenya",
          "Turkey",
          "Japan",
          "Jamaica",
          "Italy",
          "Israel",
          "Bermuda",
          "Puerto Rico",
          "Qatar",
          "Syria",
          "Kuwait",
          "Bhutan",
          "Eswatini",
          "Algeria",
          "Azerbaijan",
          "Austria",
          "Yemen",
          "Australia",
          "Aruba",
          "Armenia",
          "Bahamas",
          "Argentina",
          "Anguilla",
          "Zambia",
          "Angola",
          "Antigua and Barbuda",
          "Bonaire Sint Eustatius and Saba",
          "Bahrain",
          "Barbados",
          "Vietnam",
          "Brunei",
          "British Virgin Islands",
          "Brazil",
          "Botswana",
          "Bosnia and Herzegovina",
          "Wallis and Futuna",
          "Andorra",
          "Bangladesh",
          "American Samoa",
          "Albania",
          "Jordan",
          "Greece",
          "Kazakhstan",
          "Faeroe Islands",
          "French Guiana",
          "Sri Lanka",
          "Greenland",
          "Guadeloupe",
          "Iran",
          "Indonesia",
          "United States",
          "French Polynesia",
          "Gabon",
          "Lithuania",
          "Iceland",
          "Grenada",
          "Guyana",
          "Guinea-Bissau",
          "Guinea",
          "United Arab Emirates",
          "Guernsey",
          "Guatemala",
          "Bulgaria",
          "Uganda",
          "Burkina Faso",
          "France",
          "Guam",
          "India",
          "Liberia",
          "Turks and Caicos Islands",
          "Martinique",
          "Marshall Islands",
          "Malta",
          "Trinidad and Tobago",
          "Mali",
          "Maldives",
          "Malaysia",
          "Lesotho",
          "Malawi",
          "Luxembourg",
          "Tunisia",
          "Tuvalu",
          "Lebanon",
          "Liechtenstein",
          "Libya",
          "Madagascar",
          "Mauritius",
          "Ireland",
          "Iraq",
          "Gibraltar",
          "United Kingdom",
          "Ghana",
          "Germany",
          "Georgia",
          "Gambia",
          "Finland",
          "Fiji",
          "Russia",
          "Tanzania",
          "Serbia",
          "Saint Barthelemy",
          "Seychelles",
          "Singapore",
          "Sint Maarten (Dutch part)",
          "Slovakia",
          "Slovenia",
          "Suriname",
          "Solomon Islands",
          "Somalia",
          "South Africa",
          "Sweden",
          "Sudan",
          "Nauru",
          "Rwanda",
          "Romania",
          "Netherlands",
          "New Caledonia",
          "New Zealand",
          "Thailand",
          "Nicaragua",
          "Niger",
          "South Sudan",
          "Senegal",
          "Nigeria",
          "South Korea",
          "Spain",
          "Sierra Leone",
          "Sao Tome and Principe",
          "Honduras",
          "Mozambique",
          "Myanmar",
          "Montenegro",
          "Namibia",
          "Micronesia (country)",
          "Mexico",
          "Morocco",
          "Monaco",
          "Mayotte",
          "Montserrat",
          "Mongolia",
          "Saudi Arabia",
          "Timor",
          "Moldova",
          "Tonga",
          "Nepal",
          "Saint Martin (French part)",
          "Saint Pierre and Miquelon",
          "Saint Vincent and the Grenadines",
          "Samoa",
          "San Marino",
          "Haiti",
          "Ukraine",
          "Hungary",
          "Switzerland",
          "Saint Lucia",
          "Saint Kitts and Nevis",
          "Central African Republic",
          "Cayman Islands",
          "Cape Verde",
          "Venezuela",
          "Canada",
          "Cameroon",
          "Costa Rica",
          "Cote d'Ivoire",
          "Croatia",
          "Cuba",
          "Estonia",
          "Eritrea",
          "Togo",
          "Egypt",
          "Ecuador",
          "Dominican Republic",
          "Cambodia",
          "Djibouti",
          "Denmark",
          "Democratic Republic of Congo",
          "Czechia",
          "Cyprus",
          "Curacao",
          "Uruguay",
          "Northern Mariana Islands",
          "China",
          "Chad",
          "Equatorial Guinea",
          "Oman",
          "Palau",
          "Palestine",
          "Panama",
          "Papua New Guinea",
          "Tajikistan",
          "Paraguay",
          "Philippines",
          "Poland",
          "Colombia",
          "Chile",
          "El Salvador",
          "Portugal",
          "Vanuatu",
          "Pakistan",
          "Peru",
          "Isle of Man",
          "Mauritania",
          "Cook Islands",
          "Uzbekistan",
          "Congo",
          "Comoros",
          "Dominica",
          "Burundi",
          "Norway",
          "North Macedonia",
          "Reunion",
          "Zimbabwe"
         ],
         "locations": [
          "BEN",
          "BLZ",
          "BEL",
          "BLR",
          "BOL",
          "VIR",
          "AFG",
          "ETH",
          "LVA",
          "LAO",
          "KGZ",
          "JEY",
          "KIR",
          "KEN",
          "TUR",
          "JPN",
          "JAM",
          "ITA",
          "ISR",
          "BMU",
          "PRI",
          "QAT",
          "SYR",
          "KWT",
          "BTN",
          "SWZ",
          "DZA",
          "AZE",
          "AUT",
          "YEM",
          "AUS",
          "ABW",
          "ARM",
          "BHS",
          "ARG",
          "AIA",
          "ZMB",
          "AGO",
          "ATG",
          "BES",
          "BHR",
          "BRB",
          "VNM",
          "BRN",
          "VGB",
          "BRA",
          "BWA",
          "BIH",
          "WLF",
          "AND",
          "BGD",
          "ASM",
          "ALB",
          "JOR",
          "GRC",
          "KAZ",
          "FRO",
          "GUF",
          "LKA",
          "GRL",
          "GLP",
          "IRN",
          "IDN",
          "USA",
          "PYF",
          "GAB",
          "LTU",
          "ISL",
          "GRD",
          "GUY",
          "GNB",
          "GIN",
          "ARE",
          "GGY",
          "GTM",
          "BGR",
          "UGA",
          "BFA",
          "FRA",
          "GUM",
          "IND",
          "LBR",
          "TCA",
          "MTQ",
          "MHL",
          "MLT",
          "TTO",
          "MLI",
          "MDV",
          "MYS",
          "LSO",
          "MWI",
          "LUX",
          "TUN",
          "TUV",
          "LBN",
          "LIE",
          "LBY",
          "MDG",
          "MUS",
          "IRL",
          "IRQ",
          "GIB",
          "GBR",
          "GHA",
          "DEU",
          "GEO",
          "GMB",
          "FIN",
          "FJI",
          "RUS",
          "TZA",
          "SRB",
          "BLM",
          "SYC",
          "SGP",
          "SXM",
          "SVK",
          "SVN",
          "SUR",
          "SLB",
          "SOM",
          "ZAF",
          "SWE",
          "SDN",
          "NRU",
          "RWA",
          "ROU",
          "NLD",
          "NCL",
          "NZL",
          "THA",
          "NIC",
          "NER",
          "SSD",
          "SEN",
          "NGA",
          "KOR",
          "ESP",
          "SLE",
          "STP",
          "HND",
          "MOZ",
          "MMR",
          "MNE",
          "NAM",
          "FSM",
          "MEX",
          "MAR",
          "MCO",
          "MYT",
          "MSR",
          "MNG",
          "SAU",
          "TLS",
          "MDA",
          "TON",
          "NPL",
          "MAF",
          "SPM",
          "VCT",
          "WSM",
          "SMR",
          "HTI",
          "UKR",
          "HUN",
          "CHE",
          "LCA",
          "KNA",
          "CAF",
          "CYM",
          "CPV",
          "VEN",
          "CAN",
          "CMR",
          "CRI",
          "CIV",
          "HRV",
          "CUB",
          "EST",
          "ERI",
          "TGO",
          "EGY",
          "ECU",
          "DOM",
          "KHM",
          "DJI",
          "DNK",
          "COD",
          "CZE",
          "CYP",
          "CUW",
          "URY",
          "MNP",
          "CHN",
          "TCD",
          "GNQ",
          "OMN",
          "PLW",
          "PSE",
          "PAN",
          "PNG",
          "TJK",
          "PRY",
          "PHL",
          "POL",
          "COL",
          "CHL",
          "SLV",
          "PRT",
          "VUT",
          "PAK",
          "PER",
          "IMN",
          "MRT",
          "COK",
          "UZB",
          "COG",
          "COM",
          "DMA",
          "BDI",
          "NOR",
          "MKD",
          "REU",
          "ZWE"
         ],
         "name": "",
         "type": "choropleth",
         "z": [
          28036,
          71060,
          4817196,
          994037,
          1209081,
          25389,
          226816,
          501060,
          976316,
          218876,
          88889,
          66391,
          5085,
          343999,
          17004677,
          33803572,
          156414,
          26168412,
          4840714,
          18860,
          1252713,
          514524,
          57423,
          666432,
          62697,
          75052,
          271945,
          833550,
          6081287,
          11945,
          11618144,
          44224,
          450334,
          38084,
          10054576,
          3904,
          349287,
          105972,
          9106,
          11922,
          696614,
          110074,
          11623987,
          311905,
          7305,
          37721749,
          330298,
          403203,
          3550,
          48015,
          2045843,
          8359,
          334090,
          1746997,
          5405742,
          1502857,
          34658,
          98041,
          672593,
          11971,
          203235,
          7619981,
          6813429,
          103436829,
          78642,
          48992,
          1333228,
          209142,
          19693,
          73388,
          9614,
          38563,
          1067030,
          35326,
          1271070,
          1302188,
          171871,
          22056,
          38997490,
          52032,
          44999588,
          7930,
          6630,
          230354,
          16138,
          120422,
          191496,
          33158,
          186694,
          5130847,
          35836,
          88986,
          384378,
          1153361,
          2943,
          1239904,
          21497,
          507269,
          68350,
          309917,
          1722546,
          2465545,
          20550,
          24779150,
          171653,
          38437756,
          1855289,
          12626,
          1487090,
          69047,
          23061960,
          43078,
          2560024,
          5507,
          50937,
          2626395,
          11051,
          1867647,
          1345384,
          82588,
          21611,
          27334,
          4072533,
          2718433,
          63993,
          5393,
          133194,
          3478091,
          8618815,
          80064,
          2390777,
          4757728,
          16050,
          9515,
          18368,
          89022,
          267146,
          34571873,
          13980340,
          7766,
          6599,
          474587,
          233654,
          641324,
          251280,
          172121,
          26547,
          7692397,
          1277082,
          17049,
          42027,
          1403,
          1011170,
          841469,
          23460,
          625153,
          16839,
          1003447,
          12324,
          3426,
          9644,
          16778,
          24697,
          34368,
          5520483,
          2207969,
          4415674,
          30147,
          6607,
          15367,
          31472,
          64401,
          552695,
          4716205,
          125090,
          1238884,
          88338,
          1275762,
          1115103,
          602187,
          10189,
          39524,
          516023,
          1069139,
          667074,
          138941,
          15690,
          3417017,
          99181,
          4657581,
          660854,
          45883,
          1039238,
          14299,
          99315684,
          7698,
          17130,
          399449,
          6243,
          703228,
          1047587,
          46864,
          17786,
          735897,
          4115714,
          6525385,
          6382432,
          5288843,
          201808,
          5621015,
          12019,
          1580631,
          4520727,
          38008,
          63774,
          7168,
          174123,
          25196,
          9109,
          15798,
          54366,
          1489459,
          349104,
          494595,
          265808
         ]
        }
       ],
       "layout": {
        "autosize": true,
        "coloraxis": {
         "colorbar": {
          "title": {
           "text": "total_cases"
          }
         },
         "colorscale": [
          [
           0,
           "rgb(255,247,236)"
          ],
          [
           0.125,
           "rgb(254,232,200)"
          ],
          [
           0.25,
           "rgb(253,212,158)"
          ],
          [
           0.375,
           "rgb(253,187,132)"
          ],
          [
           0.5,
           "rgb(252,141,89)"
          ],
          [
           0.625,
           "rgb(239,101,72)"
          ],
          [
           0.75,
           "rgb(215,48,31)"
          ],
          [
           0.875,
           "rgb(179,0,0)"
          ],
          [
           1,
           "rgb(127,0,0)"
          ]
         ]
        },
        "geo": {
         "center": {},
         "domain": {
          "x": [
           0,
           1
          ],
          "y": [
           0,
           1
          ]
         }
        },
        "legend": {
         "tracegroupgap": 0
        },
        "template": {
         "data": {
          "bar": [
           {
            "error_x": {
             "color": "#2a3f5f"
            },
            "error_y": {
             "color": "#2a3f5f"
            },
            "marker": {
             "line": {
              "color": "#E5ECF6",
              "width": 0.5
             },
             "pattern": {
              "fillmode": "overlay",
              "size": 10,
              "solidity": 0.2
             }
            },
            "type": "bar"
           }
          ],
          "barpolar": [
           {
            "marker": {
             "line": {
              "color": "#E5ECF6",
              "width": 0.5
             },
             "pattern": {
              "fillmode": "overlay",
              "size": 10,
              "solidity": 0.2
             }
            },
            "type": "barpolar"
           }
          ],
          "carpet": [
           {
            "aaxis": {
             "endlinecolor": "#2a3f5f",
             "gridcolor": "white",
             "linecolor": "white",
             "minorgridcolor": "white",
             "startlinecolor": "#2a3f5f"
            },
            "baxis": {
             "endlinecolor": "#2a3f5f",
             "gridcolor": "white",
             "linecolor": "white",
             "minorgridcolor": "white",
             "startlinecolor": "#2a3f5f"
            },
            "type": "carpet"
           }
          ],
          "choropleth": [
           {
            "colorbar": {
             "outlinewidth": 0,
             "ticks": ""
            },
            "type": "choropleth"
           }
          ],
          "contour": [
           {
            "colorbar": {
             "outlinewidth": 0,
             "ticks": ""
            },
            "colorscale": [
             [
              0,
              "#0d0887"
             ],
             [
              0.1111111111111111,
              "#46039f"
             ],
             [
              0.2222222222222222,
              "#7201a8"
             ],
             [
              0.3333333333333333,
              "#9c179e"
             ],
             [
              0.4444444444444444,
              "#bd3786"
             ],
             [
              0.5555555555555556,
              "#d8576b"
             ],
             [
              0.6666666666666666,
              "#ed7953"
             ],
             [
              0.7777777777777778,
              "#fb9f3a"
             ],
             [
              0.8888888888888888,
              "#fdca26"
             ],
             [
              1,
              "#f0f921"
             ]
            ],
            "type": "contour"
           }
          ],
          "contourcarpet": [
           {
            "colorbar": {
             "outlinewidth": 0,
             "ticks": ""
            },
            "type": "contourcarpet"
           }
          ],
          "heatmap": [
           {
            "colorbar": {
             "outlinewidth": 0,
             "ticks": ""
            },
            "colorscale": [
             [
              0,
              "#0d0887"
             ],
             [
              0.1111111111111111,
              "#46039f"
             ],
             [
              0.2222222222222222,
              "#7201a8"
             ],
             [
              0.3333333333333333,
              "#9c179e"
             ],
             [
              0.4444444444444444,
              "#bd3786"
             ],
             [
              0.5555555555555556,
              "#d8576b"
             ],
             [
              0.6666666666666666,
              "#ed7953"
             ],
             [
              0.7777777777777778,
              "#fb9f3a"
             ],
             [
              0.8888888888888888,
              "#fdca26"
             ],
             [
              1,
              "#f0f921"
             ]
            ],
            "type": "heatmap"
           }
          ],
          "heatmapgl": [
           {
            "colorbar": {
             "outlinewidth": 0,
             "ticks": ""
            },
            "colorscale": [
             [
              0,
              "#0d0887"
             ],
             [
              0.1111111111111111,
              "#46039f"
             ],
             [
              0.2222222222222222,
              "#7201a8"
             ],
             [
              0.3333333333333333,
              "#9c179e"
             ],
             [
              0.4444444444444444,
              "#bd3786"
             ],
             [
              0.5555555555555556,
              "#d8576b"
             ],
             [
              0.6666666666666666,
              "#ed7953"
             ],
             [
              0.7777777777777778,
              "#fb9f3a"
             ],
             [
              0.8888888888888888,
              "#fdca26"
             ],
             [
              1,
              "#f0f921"
             ]
            ],
            "type": "heatmapgl"
           }
          ],
          "histogram": [
           {
            "marker": {
             "pattern": {
              "fillmode": "overlay",
              "size": 10,
              "solidity": 0.2
             }
            },
            "type": "histogram"
           }
          ],
          "histogram2d": [
           {
            "colorbar": {
             "outlinewidth": 0,
             "ticks": ""
            },
            "colorscale": [
             [
              0,
              "#0d0887"
             ],
             [
              0.1111111111111111,
              "#46039f"
             ],
             [
              0.2222222222222222,
              "#7201a8"
             ],
             [
              0.3333333333333333,
              "#9c179e"
             ],
             [
              0.4444444444444444,
              "#bd3786"
             ],
             [
              0.5555555555555556,
              "#d8576b"
             ],
             [
              0.6666666666666666,
              "#ed7953"
             ],
             [
              0.7777777777777778,
              "#fb9f3a"
             ],
             [
              0.8888888888888888,
              "#fdca26"
             ],
             [
              1,
              "#f0f921"
             ]
            ],
            "type": "histogram2d"
           }
          ],
          "histogram2dcontour": [
           {
            "colorbar": {
             "outlinewidth": 0,
             "ticks": ""
            },
            "colorscale": [
             [
              0,
              "#0d0887"
             ],
             [
              0.1111111111111111,
              "#46039f"
             ],
             [
              0.2222222222222222,
              "#7201a8"
             ],
             [
              0.3333333333333333,
              "#9c179e"
             ],
             [
              0.4444444444444444,
              "#bd3786"
             ],
             [
              0.5555555555555556,
              "#d8576b"
             ],
             [
              0.6666666666666666,
              "#ed7953"
             ],
             [
              0.7777777777777778,
              "#fb9f3a"
             ],
             [
              0.8888888888888888,
              "#fdca26"
             ],
             [
              1,
              "#f0f921"
             ]
            ],
            "type": "histogram2dcontour"
           }
          ],
          "mesh3d": [
           {
            "colorbar": {
             "outlinewidth": 0,
             "ticks": ""
            },
            "type": "mesh3d"
           }
          ],
          "parcoords": [
           {
            "line": {
             "colorbar": {
              "outlinewidth": 0,
              "ticks": ""
             }
            },
            "type": "parcoords"
           }
          ],
          "pie": [
           {
            "automargin": true,
            "type": "pie"
           }
          ],
          "scatter": [
           {
            "fillpattern": {
             "fillmode": "overlay",
             "size": 10,
             "solidity": 0.2
            },
            "type": "scatter"
           }
          ],
          "scatter3d": [
           {
            "line": {
             "colorbar": {
              "outlinewidth": 0,
              "ticks": ""
             }
            },
            "marker": {
             "colorbar": {
              "outlinewidth": 0,
              "ticks": ""
             }
            },
            "type": "scatter3d"
           }
          ],
          "scattercarpet": [
           {
            "marker": {
             "colorbar": {
              "outlinewidth": 0,
              "ticks": ""
             }
            },
            "type": "scattercarpet"
           }
          ],
          "scattergeo": [
           {
            "marker": {
             "colorbar": {
              "outlinewidth": 0,
              "ticks": ""
             }
            },
            "type": "scattergeo"
           }
          ],
          "scattergl": [
           {
            "marker": {
             "colorbar": {
              "outlinewidth": 0,
              "ticks": ""
             }
            },
            "type": "scattergl"
           }
          ],
          "scattermapbox": [
           {
            "marker": {
             "colorbar": {
              "outlinewidth": 0,
              "ticks": ""
             }
            },
            "type": "scattermapbox"
           }
          ],
          "scatterpolar": [
           {
            "marker": {
             "colorbar": {
              "outlinewidth": 0,
              "ticks": ""
             }
            },
            "type": "scatterpolar"
           }
          ],
          "scatterpolargl": [
           {
            "marker": {
             "colorbar": {
              "outlinewidth": 0,
              "ticks": ""
             }
            },
            "type": "scatterpolargl"
           }
          ],
          "scatterternary": [
           {
            "marker": {
             "colorbar": {
              "outlinewidth": 0,
              "ticks": ""
             }
            },
            "type": "scatterternary"
           }
          ],
          "surface": [
           {
            "colorbar": {
             "outlinewidth": 0,
             "ticks": ""
            },
            "colorscale": [
             [
              0,
              "#0d0887"
             ],
             [
              0.1111111111111111,
              "#46039f"
             ],
             [
              0.2222222222222222,
              "#7201a8"
             ],
             [
              0.3333333333333333,
              "#9c179e"
             ],
             [
              0.4444444444444444,
              "#bd3786"
             ],
             [
              0.5555555555555556,
              "#d8576b"
             ],
             [
              0.6666666666666666,
              "#ed7953"
             ],
             [
              0.7777777777777778,
              "#fb9f3a"
             ],
             [
              0.8888888888888888,
              "#fdca26"
             ],
             [
              1,
              "#f0f921"
             ]
            ],
            "type": "surface"
           }
          ],
          "table": [
           {
            "cells": {
             "fill": {
              "color": "#EBF0F8"
             },
             "line": {
              "color": "white"
             }
            },
            "header": {
             "fill": {
              "color": "#C8D4E3"
             },
             "line": {
              "color": "white"
             }
            },
            "type": "table"
           }
          ]
         },
         "layout": {
          "annotationdefaults": {
           "arrowcolor": "#2a3f5f",
           "arrowhead": 0,
           "arrowwidth": 1
          },
          "autotypenumbers": "strict",
          "coloraxis": {
           "colorbar": {
            "outlinewidth": 0,
            "ticks": ""
           }
          },
          "colorscale": {
           "diverging": [
            [
             0,
             "#8e0152"
            ],
            [
             0.1,
             "#c51b7d"
            ],
            [
             0.2,
             "#de77ae"
            ],
            [
             0.3,
             "#f1b6da"
            ],
            [
             0.4,
             "#fde0ef"
            ],
            [
             0.5,
             "#f7f7f7"
            ],
            [
             0.6,
             "#e6f5d0"
            ],
            [
             0.7,
             "#b8e186"
            ],
            [
             0.8,
             "#7fbc41"
            ],
            [
             0.9,
             "#4d9221"
            ],
            [
             1,
             "#276419"
            ]
           ],
           "sequential": [
            [
             0,
             "#0d0887"
            ],
            [
             0.1111111111111111,
             "#46039f"
            ],
            [
             0.2222222222222222,
             "#7201a8"
            ],
            [
             0.3333333333333333,
             "#9c179e"
            ],
            [
             0.4444444444444444,
             "#bd3786"
            ],
            [
             0.5555555555555556,
             "#d8576b"
            ],
            [
             0.6666666666666666,
             "#ed7953"
            ],
            [
             0.7777777777777778,
             "#fb9f3a"
            ],
            [
             0.8888888888888888,
             "#fdca26"
            ],
            [
             1,
             "#f0f921"
            ]
           ],
           "sequentialminus": [
            [
             0,
             "#0d0887"
            ],
            [
             0.1111111111111111,
             "#46039f"
            ],
            [
             0.2222222222222222,
             "#7201a8"
            ],
            [
             0.3333333333333333,
             "#9c179e"
            ],
            [
             0.4444444444444444,
             "#bd3786"
            ],
            [
             0.5555555555555556,
             "#d8576b"
            ],
            [
             0.6666666666666666,
             "#ed7953"
            ],
            [
             0.7777777777777778,
             "#fb9f3a"
            ],
            [
             0.8888888888888888,
             "#fdca26"
            ],
            [
             1,
             "#f0f921"
            ]
           ]
          },
          "colorway": [
           "#636efa",
           "#EF553B",
           "#00cc96",
           "#ab63fa",
           "#FFA15A",
           "#19d3f3",
           "#FF6692",
           "#B6E880",
           "#FF97FF",
           "#FECB52"
          ],
          "font": {
           "color": "#2a3f5f"
          },
          "geo": {
           "bgcolor": "white",
           "lakecolor": "white",
           "landcolor": "#E5ECF6",
           "showlakes": true,
           "showland": true,
           "subunitcolor": "white"
          },
          "hoverlabel": {
           "align": "left"
          },
          "hovermode": "closest",
          "mapbox": {
           "style": "light"
          },
          "paper_bgcolor": "white",
          "plot_bgcolor": "#E5ECF6",
          "polar": {
           "angularaxis": {
            "gridcolor": "white",
            "linecolor": "white",
            "ticks": ""
           },
           "bgcolor": "#E5ECF6",
           "radialaxis": {
            "gridcolor": "white",
            "linecolor": "white",
            "ticks": ""
           }
          },
          "scene": {
           "xaxis": {
            "backgroundcolor": "#E5ECF6",
            "gridcolor": "white",
            "gridwidth": 2,
            "linecolor": "white",
            "showbackground": true,
            "ticks": "",
            "zerolinecolor": "white"
           },
           "yaxis": {
            "backgroundcolor": "#E5ECF6",
            "gridcolor": "white",
            "gridwidth": 2,
            "linecolor": "white",
            "showbackground": true,
            "ticks": "",
            "zerolinecolor": "white"
           },
           "zaxis": {
            "backgroundcolor": "#E5ECF6",
            "gridcolor": "white",
            "gridwidth": 2,
            "linecolor": "white",
            "showbackground": true,
            "ticks": "",
            "zerolinecolor": "white"
           }
          },
          "shapedefaults": {
           "line": {
            "color": "#2a3f5f"
           }
          },
          "ternary": {
           "aaxis": {
            "gridcolor": "white",
            "linecolor": "white",
            "ticks": ""
           },
           "baxis": {
            "gridcolor": "white",
            "linecolor": "white",
            "ticks": ""
           },
           "bgcolor": "#E5ECF6",
           "caxis": {
            "gridcolor": "white",
            "linecolor": "white",
            "ticks": ""
           }
          },
          "title": {
           "x": 0.05
          },
          "xaxis": {
           "automargin": true,
           "gridcolor": "white",
           "linecolor": "white",
           "ticks": "",
           "title": {
            "standoff": 15
           },
           "zerolinecolor": "white",
           "zerolinewidth": 2
          },
          "yaxis": {
           "automargin": true,
           "gridcolor": "white",
           "linecolor": "white",
           "ticks": "",
           "title": {
            "standoff": 15
           },
           "zerolinecolor": "white",
           "zerolinewidth": 2
          }
         }
        },
        "title": {
         "text": "Total COVID-19 Cases by Country"
        }
       }
      },
      "image/png": "[encoded data removed]",
      "text/html": [
       "<div>                            <div id=\"29318af8-8b20-457d-9b73-2e80328c9f47\" class=\"plotly-graph-div\" style=\"height:525px; width:100%;\"></div>            <script type=\"text/javascript\">                require([\"plotly\"], function(Plotly) {                    window.PLOTLYENV=window.PLOTLYENV || {};                                    if (document.getElementById(\"29318af8-8b20-457d-9b73-2e80328c9f47\")) {                    Plotly.newPlot(                        \"29318af8-8b20-457d-9b73-2e80328c9f47\",                        [{\"coloraxis\":\"coloraxis\",\"geo\":\"geo\",\"hovertemplate\":\"<b>%{hovertext}</b><br><br>iso_code=%{location}<br>total_cases=%{z}<extra></extra>\",\"hovertext\":[\"Benin\",\"Belize\",\"Belgium\",\"Belarus\",\"Bolivia\",\"United States Virgin Islands\",\"Afghanistan\",\"Ethiopia\",\"Latvia\",\"Laos\",\"Kyrgyzstan\",\"Jersey\",\"Kiribati\",\"Kenya\",\"Turkey\",\"Japan\",\"Jamaica\",\"Italy\",\"Israel\",\"Bermuda\",\"Puerto Rico\",\"Qatar\",\"Syria\",\"Kuwait\",\"Bhutan\",\"Eswatini\",\"Algeria\",\"Azerbaijan\",\"Austria\",\"Yemen\",\"Australia\",\"Aruba\",\"Armenia\",\"Bahamas\",\"Argentina\",\"Anguilla\",\"Zambia\",\"Angola\",\"Antigua and Barbuda\",\"Bonaire Sint Eustatius and Saba\",\"Bahrain\",\"Barbados\",\"Vietnam\",\"Brunei\",\"British Virgin Islands\",\"Brazil\",\"Botswana\",\"Bosnia and Herzegovina\",\"Wallis and Futuna\",\"Andorra\",\"Bangladesh\",\"American Samoa\",\"Albania\",\"Jordan\",\"Greece\",\"Kazakhstan\",\"Faeroe Islands\",\"French Guiana\",\"Sri Lanka\",\"Greenland\",\"Guadeloupe\",\"Iran\",\"Indonesia\",\"United States\",\"French Polynesia\",\"Gabon\",\"Lithuania\",\"Iceland\",\"Grenada\",\"Guyana\",\"Guinea-Bissau\",\"Guinea\",\"United Arab Emirates\",\"Guernsey\",\"Guatemala\",\"Bulgaria\",\"Uganda\",\"Burkina Faso\",\"France\",\"Guam\",\"India\",\"Liberia\",\"Turks and Caicos Islands\",\"Martinique\",\"Marshall Islands\",\"Malta\",\"Trinidad and Tobago\",\"Mali\",\"Maldives\",\"Malaysia\",\"Lesotho\",\"Malawi\",\"Luxembourg\",\"Tunisia\",\"Tuvalu\",\"Lebanon\",\"Liechtenstein\",\"Libya\",\"Madagascar\",\"Mauritius\",\"Ireland\",\"Iraq\",\"Gibraltar\",\"United Kingdom\",\"Ghana\",\"Germany\",\"Georgia\",\"Gambia\",\"Finland\",\"Fiji\",\"Russia\",\"Tanzania\",\"Serbia\",\"Saint Barthelemy\",\"Seychelles\",\"Singapore\",\"Sint Maarten (Dutch part)\",\"Slovakia\",\"Slovenia\",\"Suriname\",\"Solomon Islands\",\"Somalia\",\"South Africa\",\"Sweden\",\"Sudan\",\"Nauru\",\"Rwanda\",\"Romania\",\"Netherlands\",\"New Caledonia\",\"New Zealand\",\"Thailand\",\"Nicaragua\",\"Niger\",\"South Sudan\",\"Senegal\",\"Nigeria\",\"South Korea\",\"Spain\",\"Sierra Leone\",\"Sao Tome and Principe\",\"Honduras\",\"Mozambique\",\"Myanmar\",\"Montenegro\",\"Namibia\",\"Micronesia (country)\",\"Mexico\",\"Morocco\",\"Monaco\",\"Mayotte\",\"Montserrat\",\"Mongolia\",\"Saudi Arabia\",\"Timor\",\"Moldova\",\"Tonga\",\"Nepal\",\"Saint Martin (French part)\",\"Saint Pierre and Miquelon\",\"Saint Vincent and the Grenadines\",\"Samoa\",\"San Marino\",\"Haiti\",\"Ukraine\",\"Hungary\",\"Switzerland\",\"Saint Lucia\",\"Saint Kitts and Nevis\",\"Central African Republic\",\"Cayman Islands\",\"Cape Verde\",\"Venezuela\",\"Canada\",\"Cameroon\",\"Costa Rica\",\"Cote d'Ivoire\",\"Croatia\",\"Cuba\",\"Estonia\",\"Eritrea\",\"Togo\",\"Egypt\",\"Ecuador\",\"Dominican Republic\",\"Cambodia\",\"Djibouti\",\"Denmark\",\"Democratic Republic of Congo\",\"Czechia\",\"Cyprus\",\"Curacao\",\"Uruguay\",\"Northern Mariana Islands\",\"China\",\"Chad\",\"Equatorial Guinea\",\"Oman\",\"Palau\",\"Palestine\",\"Panama\",\"Papua New Guinea\",\"Tajikistan\",\"Paraguay\",\"Philippines\",\"Poland\",\"Colombia\",\"Chile\",\"El Salvador\",\"Portugal\",\"Vanuatu\",\"Pakistan\",\"Peru\",\"Isle of Man\",\"Mauritania\",\"Cook Islands\",\"Uzbekistan\",\"Congo\",\"Comoros\",\"Dominica\",\"Burundi\",\"Norway\",\"North Macedonia\",\"Reunion\",\"Zimbabwe\"],\"locations\":[\"BEN\",\"BLZ\",\"BEL\",\"BLR\",\"BOL\",\"VIR\",\"AFG\",\"ETH\",\"LVA\",\"LAO\",\"KGZ\",\"JEY\",\"KIR\",\"KEN\",\"TUR\",\"JPN\",\"JAM\",\"ITA\",\"ISR\",\"BMU\",\"PRI\",\"QAT\",\"SYR\",\"KWT\",\"BTN\",\"SWZ\",\"DZA\",\"AZE\",\"AUT\",\"YEM\",\"AUS\",\"ABW\",\"ARM\",\"BHS\",\"ARG\",\"AIA\",\"ZMB\",\"AGO\",\"ATG\",\"BES\",\"BHR\",\"BRB\",\"VNM\",\"BRN\",\"VGB\",\"BRA\",\"BWA\",\"BIH\",\"WLF\",\"AND\",\"BGD\",\"ASM\",\"ALB\",\"JOR\",\"GRC\",\"KAZ\",\"FRO\",\"GUF\",\"LKA\",\"GRL\",\"GLP\",\"IRN\",\"IDN\",\"USA\",\"PYF\",\"GAB\",\"LTU\",\"ISL\",\"GRD\",\"GUY\",\"GNB\",\"GIN\",\"ARE\",\"GGY\",\"GTM\",\"BGR\",\"UGA\",\"BFA\",\"FRA\",\"GUM\",\"IND\",\"LBR\",\"TCA\",\"MTQ\",\"MHL\",\"MLT\",\"TTO\",\"MLI\",\"MDV\",\"MYS\",\"LSO\",\"MWI\",\"LUX\",\"TUN\",\"TUV\",\"LBN\",\"LIE\",\"LBY\",\"MDG\",\"MUS\",\"IRL\",\"IRQ\",\"GIB\",\"GBR\",\"GHA\",\"DEU\",\"GEO\",\"GMB\",\"FIN\",\"FJI\",\"RUS\",\"TZA\",\"SRB\",\"BLM\",\"SYC\",\"SGP\",\"SXM\",\"SVK\",\"SVN\",\"SUR\",\"SLB\",\"SOM\",\"ZAF\",\"SWE\",\"SDN\",\"NRU\",\"RWA\",\"ROU\",\"NLD\",\"NCL\",\"NZL\",\"THA\",\"NIC\",\"NER\",\"SSD\",\"SEN\",\"NGA\",\"KOR\",\"ESP\",\"SLE\",\"STP\",\"HND\",\"MOZ\",\"MMR\",\"MNE\",\"NAM\",\"FSM\",\"MEX\",\"MAR\",\"MCO\",\"MYT\",\"MSR\",\"MNG\",\"SAU\",\"TLS\",\"MDA\",\"TON\",\"NPL\",\"MAF\",\"SPM\",\"VCT\",\"WSM\",\"SMR\",\"HTI\",\"UKR\",\"HUN\",\"CHE\",\"LCA\",\"KNA\",\"CAF\",\"CYM\",\"CPV\",\"VEN\",\"CAN\",\"CMR\",\"CRI\",\"CIV\",\"HRV\",\"CUB\",\"EST\",\"ERI\",\"TGO\",\"EGY\",\"ECU\",\"DOM\",\"KHM\",\"DJI\",\"DNK\",\"COD\",\"CZE\",\"CYP\",\"CUW\",\"URY\",\"MNP\",\"CHN\",\"TCD\",\"GNQ\",\"OMN\",\"PLW\",\"PSE\",\"PAN\",\"PNG\",\"TJK\",\"PRY\",\"PHL\",\"POL\",\"COL\",\"CHL\",\"SLV\",\"PRT\",\"VUT\",\"PAK\",\"PER\",\"IMN\",\"MRT\",\"COK\",\"UZB\",\"COG\",\"COM\",\"DMA\",\"BDI\",\"NOR\",\"MKD\",\"REU\",\"ZWE\"],\"name\":\"\",\"z\":[28036.0,71060.0,4817196.0,994037.0,1209081.0,25389.0,226816.0,501060.0,976316.0,218876.0,88889.0,66391.0,5085.0,343999.0,17004677.0,33803572.0,156414.0,26168412.0,4840714.0,18860.0,1252713.0,514524.0,57423.0,666432.0,62697.0,75052.0,271945.0,833550.0,6081287.0,11945.0,11618144.0,44224.0,450334.0,38084.0,10054576.0,3904.0,349287.0,105972.0,9106.0,11922.0,696614.0,110074.0,11623987.0,311905.0,7305.0,37721749.0,330298.0,403203.0,3550.0,48015.0,2045843.0,8359.0,334090.0,1746997.0,5405742.0,1502857.0,34658.0,98041.0,672593.0,11971.0,203235.0,7619981.0,6813429.0,103436829.0,78642.0,48992.0,1333228.0,209142.0,19693.0,73388.0,9614.0,38563.0,1067030.0,35326.0,1271070.0,1302188.0,171871.0,22056.0,38997490.0,52032.0,44999588.0,7930.0,6630.0,230354.0,16138.0,120422.0,191496.0,33158.0,186694.0,5130847.0,35836.0,88986.0,384378.0,1153361.0,2943.0,1239904.0,21497.0,507269.0,68350.0,309917.0,1722546.0,2465545.0,20550.0,24779150.0,171653.0,38437756.0,1855289.0,12626.0,1487090.0,69047.0,23061960.0,43078.0,2560024.0,5507.0,50937.0,2626395.0,11051.0,1867647.0,1345384.0,82588.0,21611.0,27334.0,4072533.0,2718433.0,63993.0,5393.0,133194.0,3478091.0,8618815.0,80064.0,2390777.0,4757728.0,16050.0,9515.0,18368.0,89022.0,267146.0,34571873.0,13980340.0,7766.0,6599.0,474587.0,233654.0,641324.0,251280.0,172121.0,26547.0,7692397.0,1277082.0,17049.0,42027.0,1403.0,1011170.0,841469.0,23460.0,625153.0,16839.0,1003447.0,12324.0,3426.0,9644.0,16778.0,24697.0,34368.0,5520483.0,2207969.0,4415674.0,30147.0,6607.0,15367.0,31472.0,64401.0,552695.0,4716205.0,125090.0,1238884.0,88338.0,1275762.0,1115103.0,602187.0,10189.0,39524.0,516023.0,1069139.0,667074.0,138941.0,15690.0,3417017.0,99181.0,4657581.0,660854.0,45883.0,1039238.0,14299.0,99315684.0,7698.0,17130.0,399449.0,6243.0,703228.0,1047587.0,46864.0,17786.0,735897.0,4115714.0,6525385.0,6382432.0,5288843.0,201808.0,5621015.0,12019.0,1580631.0,4520727.0,38008.0,63774.0,7168.0,174123.0,25196.0,9109.0,15798.0,54366.0,1489459.0,349104.0,494595.0,265808.0],\"type\":\"choropleth\"}],                        {\"template\":{\"data\":{\"histogram2dcontour\":[{\"type\":\"histogram2dcontour\",\"colorbar\":{\"outlinewidth\":0,\"ticks\":\"\"},\"colorscale\":[[0.0,\"#0d0887\"],[0.1111111111111111,\"#46039f\"],[0.2222222222222222,\"#7201a8\"],[0.3333333333333333,\"#9c179e\"],[0.4444444444444444,\"#bd3786\"],[0.5555555555555556,\"#d8576b\"],[0.6666666666666666,\"#ed7953\"],[0.7777777777777778,\"#fb9f3a\"],[0.8888888888888888,\"#fdca26\"],[1.0,\"#f0f921\"]]}],\"choropleth\":[{\"type\":\"choropleth\",\"colorbar\":{\"outlinewidth\":0,\"ticks\":\"\"}}],\"histogram2d\":[{\"type\":\"histogram2d\",\"colorbar\":{\"outlinewidth\":0,\"ticks\":\"\"},\"colorscale\":[[0.0,\"#0d0887\"],[0.1111111111111111,\"#46039f\"],[0.2222222222222222,\"#7201a8\"],[0.3333333333333333,\"#9c179e\"],[0.4444444444444444,\"#bd3786\"],[0.5555555555555556,\"#d8576b\"],[0.6666666666666666,\"#ed7953\"],[0.7777777777777778,\"#fb9f3a\"],[0.8888888888888888,\"#fdca26\"],[1.0,\"#f0f921\"]]}],\"heatmap\":[{\"type\":\"heatmap\",\"colorbar\":{\"outlinewidth\":0,\"ticks\":\"\"},\"colorscale\":[[0.0,\"#0d0887\"],[0.1111111111111111,\"#46039f\"],[0.2222222222222222,\"#7201a8\"],[0.3333333333333333,\"#9c179e\"],[0.4444444444444444,\"#bd3786\"],[0.5555555555555556,\"#d8576b\"],[0.6666666666666666,\"#ed7953\"],[0.7777777777777778,\"#fb9f3a\"],[0.8888888888888888,\"#fdca26\"],[1.0,\"#f0f921\"]]}],\"heatmapgl\":[{\"type\":\"heatmapgl\",\"colorbar\":{\"outlinewidth\":0,\"ticks\":\"\"},\"colorscale\":[[0.0,\"#0d0887\"],[0.1111111111111111,\"#46039f\"],[0.2222222222222222,\"#7201a8\"],[0.3333333333333333,\"#9c179e\"],[0.4444444444444444,\"#bd3786\"],[0.5555555555555556,\"#d8576b\"],[0.6666666666666666,\"#ed7953\"],[0.7777777777777778,\"#fb9f3a\"],[0.8888888888888888,\"#fdca26\"],[1.0,\"#f0f921\"]]}],\"contourcarpet\":[{\"type\":\"contourcarpet\",\"colorbar\":{\"outlinewidth\":0,\"ticks\":\"\"}}],\"contour\":[{\"type\":\"contour\",\"colorbar\":{\"outlinewidth\":0,\"ticks\":\"\"},\"colorscale\":[[0.0,\"#0d0887\"],[0.1111111111111111,\"#46039f\"],[0.2222222222222222,\"#7201a8\"],[0.3333333333333333,\"#9c179e\"],[0.4444444444444444,\"#bd3786\"],[0.5555555555555556,\"#d8576b\"],[0.6666666666666666,\"#ed7953\"],[0.7777777777777778,\"#fb9f3a\"],[0.8888888888888888,\"#fdca26\"],[1.0,\"#f0f921\"]]}],\"surface\":[{\"type\":\"surface\",\"colorbar\":{\"outlinewidth\":0,\"ticks\":\"\"},\"colorscale\":[[0.0,\"#0d0887\"],[0.1111111111111111,\"#46039f\"],[0.2222222222222222,\"#7201a8\"],[0.3333333333333333,\"#9c179e\"],[0.4444444444444444,\"#bd3786\"],[0.5555555555555556,\"#d8576b\"],[0.6666666666666666,\"#ed7953\"],[0.7777777777777778,\"#fb9f3a\"],[0.8888888888888888,\"#fdca26\"],[1.0,\"#f0f921\"]]}],\"mesh3d\":[{\"type\":\"mesh3d\",\"colorbar\":{\"outlinewidth\":0,\"ticks\":\"\"}}],\"scatter\":[{\"fillpattern\":{\"fillmode\":\"overlay\",\"size\":10,\"solidity\":0.2},\"type\":\"scatter\"}],\"parcoords\":[{\"type\":\"parcoords\",\"line\":{\"colorbar\":{\"outlinewidth\":0,\"ticks\":\"\"}}}],\"scatterpolargl\":[{\"type\":\"scatterpolargl\",\"marker\":{\"colorbar\":{\"outlinewidth\":0,\"ticks\":\"\"}}}],\"bar\":[{\"error_x\":{\"color\":\"#2a3f5f\"},\"error_y\":{\"color\":\"#2a3f5f\"},\"marker\":{\"line\":{\"color\":\"#E5ECF6\",\"width\":0.5},\"pattern\":{\"fillmode\":\"overlay\",\"size\":10,\"solidity\":0.2}},\"type\":\"bar\"}],\"scattergeo\":[{\"type\":\"scattergeo\",\"marker\":{\"colorbar\":{\"outlinewidth\":0,\"ticks\":\"\"}}}],\"scatterpolar\":[{\"type\":\"scatterpolar\",\"marker\":{\"colorbar\":{\"outlinewidth\":0,\"ticks\":\"\"}}}],\"histogram\":[{\"marker\":{\"pattern\":{\"fillmode\":\"overlay\",\"size\":10,\"solidity\":0.2}},\"type\":\"histogram\"}],\"scattergl\":[{\"type\":\"scattergl\",\"marker\":{\"colorbar\":{\"outlinewidth\":0,\"ticks\":\"\"}}}],\"scatter3d\":[{\"type\":\"scatter3d\",\"line\":{\"colorbar\":{\"outlinewidth\":0,\"ticks\":\"\"}},\"marker\":{\"colorbar\":{\"outlinewidth\":0,\"ticks\":\"\"}}}],\"scattermapbox\":[{\"type\":\"scattermapbox\",\"marker\":{\"colorbar\":{\"outlinewidth\":0,\"ticks\":\"\"}}}],\"scatterternary\":[{\"type\":\"scatterternary\",\"marker\":{\"colorbar\":{\"outlinewidth\":0,\"ticks\":\"\"}}}],\"scattercarpet\":[{\"type\":\"scattercarpet\",\"marker\":{\"colorbar\":{\"outlinewidth\":0,\"ticks\":\"\"}}}],\"carpet\":[{\"aaxis\":{\"endlinecolor\":\"#2a3f5f\",\"gridcolor\":\"white\",\"linecolor\":\"white\",\"minorgridcolor\":\"white\",\"startlinecolor\":\"#2a3f5f\"},\"baxis\":{\"endlinecolor\":\"#2a3f5f\",\"gridcolor\":\"white\",\"linecolor\":\"white\",\"minorgridcolor\":\"white\",\"startlinecolor\":\"#2a3f5f\"},\"type\":\"carpet\"}],\"table\":[{\"cells\":{\"fill\":{\"color\":\"#EBF0F8\"},\"line\":{\"color\":\"white\"}},\"header\":{\"fill\":{\"color\":\"#C8D4E3\"},\"line\":{\"color\":\"white\"}},\"type\":\"table\"}],\"barpolar\":[{\"marker\":{\"line\":{\"color\":\"#E5ECF6\",\"width\":0.5},\"pattern\":{\"fillmode\":\"overlay\",\"size\":10,\"solidity\":0.2}},\"type\":\"barpolar\"}],\"pie\":[{\"automargin\":true,\"type\":\"pie\"}]},\"layout\":{\"autotypenumbers\":\"strict\",\"colorway\":[\"#636efa\",\"#EF553B\",\"#00cc96\",\"#ab63fa\",\"#FFA15A\",\"#19d3f3\",\"#FF6692\",\"#B6E880\",\"#FF97FF\",\"#FECB52\"],\"font\":{\"color\":\"#2a3f5f\"},\"hovermode\":\"closest\",\"hoverlabel\":{\"align\":\"left\"},\"paper_bgcolor\":\"white\",\"plot_bgcolor\":\"#E5ECF6\",\"polar\":{\"bgcolor\":\"#E5ECF6\",\"angularaxis\":{\"gridcolor\":\"white\",\"linecolor\":\"white\",\"ticks\":\"\"},\"radialaxis\":{\"gridcolor\":\"white\",\"linecolor\":\"white\",\"ticks\":\"\"}},\"ternary\":{\"bgcolor\":\"#E5ECF6\",\"aaxis\":{\"gridcolor\":\"white\",\"linecolor\":\"white\",\"ticks\":\"\"},\"baxis\":{\"gridcolor\":\"white\",\"linecolor\":\"white\",\"ticks\":\"\"},\"caxis\":{\"gridcolor\":\"white\",\"linecolor\":\"white\",\"ticks\":\"\"}},\"coloraxis\":{\"colorbar\":{\"outlinewidth\":0,\"ticks\":\"\"}},\"colorscale\":{\"sequential\":[[0.0,\"#0d0887\"],[0.1111111111111111,\"#46039f\"],[0.2222222222222222,\"#7201a8\"],[0.3333333333333333,\"#9c179e\"],[0.4444444444444444,\"#bd3786\"],[0.5555555555555556,\"#d8576b\"],[0.6666666666666666,\"#ed7953\"],[0.7777777777777778,\"#fb9f3a\"],[0.8888888888888888,\"#fdca26\"],[1.0,\"#f0f921\"]],\"sequentialminus\":[[0.0,\"#0d0887\"],[0.1111111111111111,\"#46039f\"],[0.2222222222222222,\"#7201a8\"],[0.3333333333333333,\"#9c179e\"],[0.4444444444444444,\"#bd3786\"],[0.5555555555555556,\"#d8576b\"],[0.6666666666666666,\"#ed7953\"],[0.7777777777777778,\"#fb9f3a\"],[0.8888888888888888,\"#fdca26\"],[1.0,\"#f0f921\"]],\"diverging\":[[0,\"#8e0152\"],[0.1,\"#c51b7d\"],[0.2,\"#de77ae\"],[0.3,\"#f1b6da\"],[0.4,\"#fde0ef\"],[0.5,\"#f7f7f7\"],[0.6,\"#e6f5d0\"],[0.7,\"#b8e186\"],[0.8,\"#7fbc41\"],[0.9,\"#4d9221\"],[1,\"#276419\"]]},\"xaxis\":{\"gridcolor\":\"white\",\"linecolor\":\"white\",\"ticks\":\"\",\"title\":{\"standoff\":15},\"zerolinecolor\":\"white\",\"automargin\":true,\"zerolinewidth\":2},\"yaxis\":{\"gridcolor\":\"white\",\"linecolor\":\"white\",\"ticks\":\"\",\"title\":{\"standoff\":15},\"zerolinecolor\":\"white\",\"automargin\":true,\"zerolinewidth\":2},\"scene\":{\"xaxis\":{\"backgroundcolor\":\"#E5ECF6\",\"gridcolor\":\"white\",\"linecolor\":\"white\",\"showbackground\":true,\"ticks\":\"\",\"zerolinecolor\":\"white\",\"gridwidth\":2},\"yaxis\":{\"backgroundcolor\":\"#E5ECF6\",\"gridcolor\":\"white\",\"linecolor\":\"white\",\"showbackground\":true,\"ticks\":\"\",\"zerolinecolor\":\"white\",\"gridwidth\":2},\"zaxis\":{\"backgroundcolor\":\"#E5ECF6\",\"gridcolor\":\"white\",\"linecolor\":\"white\",\"showbackground\":true,\"ticks\":\"\",\"zerolinecolor\":\"white\",\"gridwidth\":2}},\"shapedefaults\":{\"line\":{\"color\":\"#2a3f5f\"}},\"annotationdefaults\":{\"arrowcolor\":\"#2a3f5f\",\"arrowhead\":0,\"arrowwidth\":1},\"geo\":{\"bgcolor\":\"white\",\"landcolor\":\"#E5ECF6\",\"subunitcolor\":\"white\",\"showland\":true,\"showlakes\":true,\"lakecolor\":\"white\"},\"title\":{\"x\":0.05},\"mapbox\":{\"style\":\"light\"}}},\"geo\":{\"domain\":{\"x\":[0.0,1.0],\"y\":[0.0,1.0]},\"center\":{}},\"coloraxis\":{\"colorbar\":{\"title\":{\"text\":\"total_cases\"}},\"colorscale\":[[0.0,\"rgb(255,247,236)\"],[0.125,\"rgb(254,232,200)\"],[0.25,\"rgb(253,212,158)\"],[0.375,\"rgb(253,187,132)\"],[0.5,\"rgb(252,141,89)\"],[0.625,\"rgb(239,101,72)\"],[0.75,\"rgb(215,48,31)\"],[0.875,\"rgb(179,0,0)\"],[1.0,\"rgb(127,0,0)\"]]},\"legend\":{\"tracegroupgap\":0},\"title\":{\"text\":\"Total COVID-19 Cases by Country\"}},                        {\"responsive\": true}                    ).then(function(){\n",
       "                            \n",
       "var gd = document.getElementById('29318af8-8b20-457d-9b73-2e80328c9f47');\n",
       "var x = new MutationObserver(function (mutations, observer) {{\n",
       "        var display = window.getComputedStyle(gd).display;\n",
       "        if (!display || display === 'none') {{\n",
       "            console.log([gd, 'removed!']);\n",
       "            Plotly.purge(gd);\n",
       "            observer.disconnect();\n",
       "        }}\n",
       "}});\n",
       "\n",
       "// Listen for the removal of the full notebook cells\n",
       "var notebookContainer = gd.closest('#notebook-container');\n",
       "if (notebookContainer) {{\n",
       "    x.observe(notebookContainer, {childList: true});\n",
       "}}\n",
       "\n",
       "// Listen for the clearing of the current output cell\n",
       "var outputEl = gd.closest('.output');\n",
       "if (outputEl) {{\n",
       "    x.observe(outputEl, {childList: true});\n",
       "}}\n",
       "\n",
       "                        })                };                });            </script>        </div>"
      ]
     },
     "metadata": {},
     "output_type": "display_data"
    }
   ],
   "source": [
    "#Optional: Build a Choropleth Map\n",
    "import plotly.express as px\n",
    "\n",
    "import plotly.express as px\n",
    "\n",
    "# Get latest data for all countries\n",
    "latest_global = df.sort_values('date').groupby('location').tail(1)\n",
    "\n",
    "# Filter out rows without iso_code or cases\n",
    "latest_global = latest_global[latest_global['iso_code'].str.len() == 3]\n",
    "latest_global = latest_global[~latest_global['total_cases'].isna()]\n",
    "# choropleth map\n",
    "fig = px.choropleth(latest_global,\n",
    "                    locations='iso_code',\n",
    "                    color='total_cases',\n",
    "                    hover_name='location',\n",
    "                    color_continuous_scale='OrRd',\n",
    "                    title='Total COVID-19 Cases by Country')\n",
    "fig.show()\n"
   ]
  },
  {
   "cell_type": "code",
   "execution_count": null,
   "id": "9ca673f6-83a4-40d2-9971-e086e0411eb2",
   "metadata": {},
   "outputs": [],
   "source": [
    "#7. Key Insights\n",
    "#India has the highest COVID-19 cases overtime and Kenya the lowest\n",
    "# India also has the highest deaths and Kenya the lowest\n",
    "# Based on cases by country, China and North America was the most affected. It is interesting that Africa was the least affected compares to first-world countries\n",
    "# Regarding new cases, India experienced massive spikes mid-2021, Spain shows multiple signficant spikes, and was highest in 2022\n",
    "# Kenya demonstrates comparatively lower and fewer peaks, which either reveals low reporting levels, smaller waves orlower cases\n"
   ]
  },
  {
   "cell_type": "code",
   "execution_count": null,
   "id": "7f90f255-6e9b-4ba4-a729-b435de3827dc",
   "metadata": {},
   "outputs": [],
   "source": []
  }
 ],
 "metadata": {
  "kernelspec": {
   "display_name": "anaconda-panel-2023.05-py310",
   "language": "python",
   "name": "conda-env-anaconda-panel-2023.05-py310-py"
  },
  "language_info": {
   "codemirror_mode": {
    "name": "ipython",
    "version": 3
   },
   "file_extension": ".py",
   "mimetype": "text/x-python",
   "name": "python",
   "nbconvert_exporter": "python",
   "pygments_lexer": "ipython3",
   "version": "3.11.5"
  }
 },
 "nbformat": 4,
 "nbformat_minor": 5
}
